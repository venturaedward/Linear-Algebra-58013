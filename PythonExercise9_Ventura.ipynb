{
  "nbformat": 4,
  "nbformat_minor": 0,
  "metadata": {
    "colab": {
      "provenance": [],
      "authorship_tag": "ABX9TyOPfdXTBhyF0ZQaBq0GTZBM",
      "include_colab_link": true
    },
    "kernelspec": {
      "name": "python3",
      "display_name": "Python 3"
    },
    "language_info": {
      "name": "python"
    }
  },
  "cells": [
    {
      "cell_type": "markdown",
      "metadata": {
        "id": "view-in-github",
        "colab_type": "text"
      },
      "source": [
        "<a href=\"https://colab.research.google.com/github/venturaedward/Linear-Algebra-58013/blob/main/PythonExercise9_Ventura.ipynb\" target=\"_parent\"><img src=\"https://colab.research.google.com/assets/colab-badge.svg\" alt=\"Open In Colab\"/></a>"
      ]
    },
    {
      "cell_type": "code",
      "execution_count": 2,
      "metadata": {
        "colab": {
          "base_uri": "https://localhost:8080/"
        },
        "id": "JSi1YPlNBQbU",
        "outputId": "d407561c-f4bd-48f5-b2a3-c89ac7463460"
      },
      "outputs": [
        {
          "output_type": "stream",
          "name": "stdout",
          "text": [
            "Price per sack of flour: 330.0 pesos\n",
            "Price per pack of yeast: 139.99999999999986 pesos\n",
            "Price per egg: 10.00000000000002 pesos\n"
          ]
        }
      ],
      "source": [
        "import numpy as np\n",
        "\n",
        "# Define the quantities and prices for each month\n",
        "quantities = np.array([[30, 10, 120], [40, 20, 200], [50, 40, 360]])\n",
        "prices = np.array([12500, 18000, 25700])\n",
        "\n",
        "# Define the equation as Ax = B, where A is the quantities matrix, x is the unknown prices vector, and B is the prices vector\n",
        "A = quantities\n",
        "B = prices\n",
        "\n",
        "# Solve for the unknown prices\n",
        "prices_per_item = np.linalg.solve(A, B)\n",
        "\n",
        "# Extract the individual prices per item\n",
        "price_per_sack_of_flour, price_per_pack_of_yeast, price_per_egg = prices_per_item\n",
        "\n",
        "# Print the results\n",
        "print(f\"Price per sack of flour: {price_per_sack_of_flour} pesos\")\n",
        "print(f\"Price per pack of yeast: {price_per_pack_of_yeast} pesos\")\n",
        "print(f\"Price per egg: {price_per_egg} pesos\")"
      ]
    }
  ]
}