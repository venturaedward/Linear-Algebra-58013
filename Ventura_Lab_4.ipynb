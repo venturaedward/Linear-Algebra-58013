{
  "nbformat": 4,
  "nbformat_minor": 0,
  "metadata": {
    "colab": {
      "provenance": [],
      "authorship_tag": "ABX9TyPfu4o1g5tCKy3jupsrM2DP",
      "include_colab_link": true
    },
    "kernelspec": {
      "name": "python3",
      "display_name": "Python 3"
    },
    "language_info": {
      "name": "python"
    }
  },
  "cells": [
    {
      "cell_type": "markdown",
      "metadata": {
        "id": "view-in-github",
        "colab_type": "text"
      },
      "source": [
        "<a href=\"https://colab.research.google.com/github/venturaedward/Linear-Algebra-58013/blob/main/Ventura_Lab_4.ipynb\" target=\"_parent\"><img src=\"https://colab.research.google.com/assets/colab-badge.svg\" alt=\"Open In Colab\"/></a>"
      ]
    },
    {
      "cell_type": "code",
      "execution_count": null,
      "metadata": {
        "id": "Doen7-CwahXn"
      },
      "outputs": [],
      "source": [
        "import numpy as np\n",
        "import matplotlib.pyplot as plt\n",
        "from mpl_toolkits.mplot3d import Axes3D\n",
        "\n",
        "A = np.array([[-0.5], [2.3], [-0.4]])\n",
        "B = np.array([-0.2, 0.22, 0])\n",
        "C = np.array([-0.23, 1, -1.4])\n",
        "\n",
        "print(\"Vector A:\", \"\\n\", A)\n",
        "print(\"Vector B:\", \"\\n\", B)\n",
        "print(\"Vector C:\", \"\\n\", C, \"\\n\")\n",
        "\n",
        "add = A + B\n",
        "dot = np.dot(C, A)\n",
        "cross = np.cross(B, C)\n",
        "\n",
        "print(\"A + B:\", \"\\n\", add)\n",
        "print(\"Dot Product of C and A:\", \"\\n\", dot)\n",
        "print(\"Cross Product of B and C:\", \"\\n\", cross)\n",
        "\n",
        "fig = plt.figure()\n",
        "ax = fig.add_subplot(111, projection='3d')\n",
        "ax.quiver(0, 0, 0, cross[0], cross[1], cross[2], color='r', label ='add')\n",
        "ax.quiver(0, 0, 0, dot[0], dot[0], dot[0], color='g', label='dot')\n",
        "ax.quiver(0, 0, 0, add[0], add[1], add[2], color='b', label='cross')\n",
        "ax.set_xlim([-6, 6])\n",
        "ax.set_ylim([-6, 6])\n",
        "ax.set_zlim([-6, 6])\n",
        "ax.set_xlabel('X')\n",
        "ax.set_ylabel('Y')\n",
        "ax.set_zlabel('Z')\n",
        "ax.legend()\n",
        "plt.show()"
      ]
    }
  ]
}